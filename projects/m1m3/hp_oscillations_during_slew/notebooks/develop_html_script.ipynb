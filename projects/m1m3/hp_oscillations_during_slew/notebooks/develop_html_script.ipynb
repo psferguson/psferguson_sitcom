{
 "cells": [
  {
   "cell_type": "code",
   "execution_count": 23,
   "id": "116c87db-5b80-4aee-a7f6-2963a3713692",
   "metadata": {
    "execution": {
     "iopub.execute_input": "2023-06-24T07:50:19.219859Z",
     "iopub.status.busy": "2023-06-24T07:50:19.219254Z",
     "iopub.status.idle": "2023-06-24T07:50:19.222988Z",
     "shell.execute_reply": "2023-06-24T07:50:19.222560Z",
     "shell.execute_reply.started": "2023-06-24T07:50:19.219843Z"
    },
    "tags": []
   },
   "outputs": [],
   "source": [
    "from glob import glob\n",
    "import sys, time, os, asyncio\n",
    "import matplotlib.pyplot as plt\n",
    "import pandas as pd\n",
    "import numpy as np\n",
    "from astropy.time import Time, TimeDelta\n",
    "from scipy.interpolate import UnivariateSpline\n",
    "\n",
    "from lsst_efd_client import EfdClient, resample, merge_packed_time_series, rendezvous_dataframes\n",
    "from lsst.ts.idl.enums import MTM1M3\n",
    "\n",
    "from scipy.signal import find_peaks\n",
    "from scipy.interpolate import interp1d\n",
    "import astropy.units as u"
   ]
  },
  {
   "cell_type": "code",
   "execution_count": 24,
   "id": "bff95b3e-d90e-4020-a036-c6f83bc7e54d",
   "metadata": {
    "execution": {
     "iopub.execute_input": "2023-06-24T07:50:19.933176Z",
     "iopub.status.busy": "2023-06-24T07:50:19.932776Z",
     "iopub.status.idle": "2023-06-24T07:50:19.936882Z",
     "shell.execute_reply": "2023-06-24T07:50:19.936479Z",
     "shell.execute_reply.started": "2023-06-24T07:50:19.933160Z"
    },
    "tags": []
   },
   "outputs": [],
   "source": [
    "events=pd.read_csv(\"/home/p/pferguso/u/projects/m1m3/hp_oscillations_during_slew/data/230622_combined_events.csv\")"
   ]
  },
  {
   "cell_type": "code",
   "execution_count": 25,
   "id": "370c4ea2-b403-43c5-b494-822bf13b7574",
   "metadata": {
    "execution": {
     "iopub.execute_input": "2023-06-24T07:50:20.794275Z",
     "iopub.status.busy": "2023-06-24T07:50:20.793899Z",
     "iopub.status.idle": "2023-06-24T07:50:20.797371Z",
     "shell.execute_reply": "2023-06-24T07:50:20.796906Z",
     "shell.execute_reply.started": "2023-06-24T07:50:20.794260Z"
    },
    "tags": []
   },
   "outputs": [],
   "source": [
    "events=events.sort_values(\"times\", ascending=False).reset_index(drop=True)"
   ]
  },
  {
   "cell_type": "code",
   "execution_count": 26,
   "id": "eeb26bf8-ca67-45cc-ac9c-b9aaeeb59ddd",
   "metadata": {
    "execution": {
     "iopub.execute_input": "2023-06-24T07:50:23.058192Z",
     "iopub.status.busy": "2023-06-24T07:50:23.057609Z",
     "iopub.status.idle": "2023-06-24T07:50:23.061840Z",
     "shell.execute_reply": "2023-06-24T07:50:23.061393Z",
     "shell.execute_reply.started": "2023-06-24T07:50:23.058174Z"
    },
    "tags": []
   },
   "outputs": [],
   "source": [
    "def link_from_date(timestamp):\n",
    "    \n",
    "    begin_timestamp=(Time(timestamp, format=\"unix\") - TimeDelta(3, format='sec')).iso\n",
    "    end_timestamp=(Time(timestamp, format=\"unix\") + TimeDelta(3, format='sec')).iso\n",
    "    \n",
    "    begin_day=begin_timestamp[:10]\n",
    "    begin_hour=begin_timestamp[11:13]\n",
    "    begin_minute=begin_timestamp[14:16]\n",
    "    begin_second=begin_timestamp[17:]\n",
    "    \n",
    "    end_day=end_timestamp[:10]\n",
    "    end_hour=end_timestamp[11:13]\n",
    "    end_minute=end_timestamp[14:16]\n",
    "    end_second=end_timestamp[17:]\n",
    "    \n",
    "    url=\"https://summit-lsp.lsst.codes/chronograf/sources/1/dashboards/\"\n",
    "    url+=\"207?refresh=Paused&tempVars%5BDownsample%5D=Default&tempVars%5BFunction%5D=\"\n",
    "    url+=f\"raw&lower={begin_day}T{begin_hour}%3A{begin_minute}%3A{begin_second}Z\"\n",
    "    url+=f'&upper={end_day}T{end_hour}%3A{end_minute}%3A{end_second}Z'\n",
    "    #url+=f\"&zoomedLower={begin_day}T{begin_hour}%3A{begin_minute}%3A{begin_second}Z&zoomedUpper=2023-05-30T10%3A08%3A02.962Z\"\n",
    "    return url"
   ]
  },
  {
   "cell_type": "code",
   "execution_count": 27,
   "id": "c45ceae3-2201-4f2f-93c8-062f0b6b94c9",
   "metadata": {
    "execution": {
     "iopub.execute_input": "2023-06-24T07:50:28.177208Z",
     "iopub.status.busy": "2023-06-24T07:50:28.176599Z",
     "iopub.status.idle": "2023-06-24T07:50:28.179468Z",
     "shell.execute_reply": "2023-06-24T07:50:28.179031Z",
     "shell.execute_reply.started": "2023-06-24T07:50:28.177192Z"
    },
    "tags": []
   },
   "outputs": [],
   "source": [
    "title_str=\"| event number  | Time  |  elevation |  elevation velocity | hardpoint/ims dashboard  |\\n|---|---|---|---|---|\\n\"\n"
   ]
  },
  {
   "cell_type": "code",
   "execution_count": 28,
   "id": "7fe6ea63-072d-4bdc-82f5-bb1426fb3493",
   "metadata": {
    "execution": {
     "iopub.execute_input": "2023-06-24T07:50:31.801528Z",
     "iopub.status.busy": "2023-06-24T07:50:31.801246Z",
     "iopub.status.idle": "2023-06-24T07:50:31.894674Z",
     "shell.execute_reply": "2023-06-24T07:50:31.894263Z",
     "shell.execute_reply.started": "2023-06-24T07:50:31.801508Z"
    },
    "tags": []
   },
   "outputs": [],
   "source": [
    "row_str=\"\"\n",
    "for j,i in enumerate((range(len(events)))):\n",
    "    #if events[\"group\"][i] < 3:\n",
    "    row_str+=f\"| {len(events)-j}  | {events['iso_time'][i]}  | \"\n",
    "    row_str+=f\"{events['elevation_position'][i]:0.2f}  | {events['elevation_velocity'][i]:0.2f} \" \n",
    "    row_str+='| <a href=\"'\n",
    "    row_str+=f'{link_from_date(events[\"times\"][i]-2)}'\n",
    "    row_str+='\" target=\"_blank\">link to dashboard</a>|\\n'"
   ]
  },
  {
   "cell_type": "code",
   "execution_count": 29,
   "id": "34b8663f-c187-4535-9270-7a3c8aff489b",
   "metadata": {
    "execution": {
     "iopub.execute_input": "2023-06-24T07:50:34.427256Z",
     "iopub.status.busy": "2023-06-24T07:50:34.426956Z",
     "iopub.status.idle": "2023-06-24T07:50:34.430639Z",
     "shell.execute_reply": "2023-06-24T07:50:34.430151Z",
     "shell.execute_reply.started": "2023-06-24T07:50:34.427235Z"
    },
    "tags": []
   },
   "outputs": [
    {
     "name": "stdout",
     "output_type": "stream",
     "text": [
      "| event number  | Time  |  elevation |  elevation velocity | hardpoint/ims dashboard  |\n",
      "|---|---|---|---|---|\n",
      "| 126  | 2023-06-23 20:20:14.944  | 64.21  | 0.05 | <a href=\"https://summit-lsp.lsst.codes/chronograf/sources/1/dashboards/207?refresh=Paused&tempVars%5BDownsample%5D=Default&tempVars%5BFunction%5D=raw&lower=2023-06-23T20%3A20%3A09.944Z&upper=2023-06-23T20%3A20%3A15.944Z\" target=\"_blank\">link to dashboard</a>|\n",
      "| 125  | 2023-06-23 20:15:10.688  | 48.99  | 0.05 | <a href=\"https://summit-lsp.lsst.codes/chronograf/sources/1/dashboards/207?refresh=Paused&tempVars%5BDownsample%5D=Default&tempVars%5BFunction%5D=raw&lower=2023-06-23T20%3A15%3A05.688Z&upper=2023-06-23T20%3A15%3A11.688Z\" target=\"_blank\">link to dashboard</a>|\n",
      "| 124  | 2023-06-23 17:12:30.626  | 12.56  | -0.05 | <a href=\"https://summit-lsp.lsst.codes/chronograf/sources/1/dashboards/207?refresh=Paused&tempVars%5BDownsample%5D=Default&tempVars%5BFunction%5D=raw&lower=2023-06-23T17%3A12%3A25.626Z&upper=2023-06-23T17%3A12%3A31.626Z\" target=\"_blank\">link to dashboard</a>|\n",
      "| 123  | 2023-06-23 15:42:11.200  | 56.06  | 0.05 | <a href=\"https://summit-lsp.lsst.codes/chronograf/sources/1/dashboards/207?refresh=Paused&tempVars%5BDownsample%5D=Default&tempVars%5BFunction%5D=raw&lower=2023-06-23T15%3A42%3A06.200Z&upper=2023-06-23T15%3A42%3A12.200Z\" target=\"_blank\">link to dashboard</a>|\n",
      "| 122  | 2023-06-23 15:38:36.197  | 45.31  | 0.05 | <a href=\"https://summit-lsp.lsst.codes/chronograf/sources/1/dashboards/207?refresh=Paused&tempVars%5BDownsample%5D=Default&tempVars%5BFunction%5D=raw&lower=2023-06-23T15%3A38%3A31.197Z&upper=2023-06-23T15%3A38%3A37.197Z\" target=\"_blank\">link to dashboard</a>|\n",
      "| 121  | 2023-06-23 14:45:24.247  | 5.45  | -0.05 | <a href=\"https://summit-lsp.lsst.codes/chronograf/sources/1/dashboards/207?refresh=Paused&tempVars%5BDownsample%5D=Default&tempVars%5BFunction%5D=raw&lower=2023-06-23T14%3A45%3A19.247Z&upper=2023-06-23T14%3A45%3A25.247Z\" target=\"_blank\">link to dashboard</a>|\n",
      "| 120  | 2023-06-23 14:40:49.244  | 19.20  | -0.05 | <a href=\"https://summit-lsp.lsst.codes/chronograf/sources/1/dashboards/207?refresh=Paused&tempVars%5BDownsample%5D=Default&tempVars%5BFunction%5D=raw&lower=2023-06-23T14%3A40%3A44.244Z&upper=2023-06-23T14%3A40%3A50.244Z\" target=\"_blank\">link to dashboard</a>|\n",
      "| 119  | 2023-06-23 10:29:40.921  | 69.21  | 0.05 | <a href=\"https://summit-lsp.lsst.codes/chronograf/sources/1/dashboards/207?refresh=Paused&tempVars%5BDownsample%5D=Default&tempVars%5BFunction%5D=raw&lower=2023-06-23T10%3A29%3A35.921Z&upper=2023-06-23T10%3A29%3A41.921Z\" target=\"_blank\">link to dashboard</a>|\n",
      "| 118  | 2023-06-23 10:23:23.658  | 50.35  | 0.05 | <a href=\"https://summit-lsp.lsst.codes/chronograf/sources/1/dashboards/207?refresh=Paused&tempVars%5BDownsample%5D=Default&tempVars%5BFunction%5D=raw&lower=2023-06-23T10%3A23%3A18.658Z&upper=2023-06-23T10%3A23%3A24.658Z\" target=\"_blank\">link to dashboard</a>|\n",
      "| 117  | 2023-06-23 10:02:11.542  | 10.17  | -0.05 | <a href=\"https://summit-lsp.lsst.codes/chronograf/sources/1/dashboards/207?refresh=Paused&tempVars%5BDownsample%5D=Default&tempVars%5BFunction%5D=raw&lower=2023-06-23T10%3A02%3A06.542Z&upper=2023-06-23T10%3A02%3A12.542Z\" target=\"_blank\">link to dashboard</a>|\n",
      "| 116  | 2023-06-23 09:58:13.843  | 22.06  | -0.05 | <a href=\"https://summit-lsp.lsst.codes/chronograf/sources/1/dashboards/207?refresh=Paused&tempVars%5BDownsample%5D=Default&tempVars%5BFunction%5D=raw&lower=2023-06-23T09%3A58%3A08.843Z&upper=2023-06-23T09%3A58%3A14.843Z\" target=\"_blank\">link to dashboard</a>|\n",
      "| 115  | 2023-06-23 09:29:57.975  | 76.24  | 0.05 | <a href=\"https://summit-lsp.lsst.codes/chronograf/sources/1/dashboards/207?refresh=Paused&tempVars%5BDownsample%5D=Default&tempVars%5BFunction%5D=raw&lower=2023-06-23T09%3A29%3A52.975Z&upper=2023-06-23T09%3A29%3A58.975Z\" target=\"_blank\">link to dashboard</a>|\n",
      "| 114  | 2023-06-23 09:21:45.929  | 51.64  | 0.05 | <a href=\"https://summit-lsp.lsst.codes/chronograf/sources/1/dashboards/207?refresh=Paused&tempVars%5BDownsample%5D=Default&tempVars%5BFunction%5D=raw&lower=2023-06-23T09%3A21%3A40.929Z&upper=2023-06-23T09%3A21%3A46.929Z\" target=\"_blank\">link to dashboard</a>|\n",
      "| 113  | 2023-06-23 09:00:09.942  | 10.07  | -0.05 | <a href=\"https://summit-lsp.lsst.codes/chronograf/sources/1/dashboards/207?refresh=Paused&tempVars%5BDownsample%5D=Default&tempVars%5BFunction%5D=raw&lower=2023-06-23T09%3A00%3A04.942Z&upper=2023-06-23T09%3A00%3A10.942Z\" target=\"_blank\">link to dashboard</a>|\n",
      "| 112  | 2023-06-23 08:56:02.183  | 22.46  | -0.05 | <a href=\"https://summit-lsp.lsst.codes/chronograf/sources/1/dashboards/207?refresh=Paused&tempVars%5BDownsample%5D=Default&tempVars%5BFunction%5D=raw&lower=2023-06-23T08%3A55%3A57.183Z&upper=2023-06-23T08%3A56%3A03.183Z\" target=\"_blank\">link to dashboard</a>|\n",
      "| 111  | 2023-06-23 07:31:51.928  | 80.00  | -0.00 | <a href=\"https://summit-lsp.lsst.codes/chronograf/sources/1/dashboards/207?refresh=Paused&tempVars%5BDownsample%5D=Default&tempVars%5BFunction%5D=raw&lower=2023-06-23T07%3A31%3A46.928Z&upper=2023-06-23T07%3A31%3A52.928Z\" target=\"_blank\">link to dashboard</a>|\n",
      "| 110  | 2023-06-23 04:27:46.074  | 67.00  | -0.00 | <a href=\"https://summit-lsp.lsst.codes/chronograf/sources/1/dashboards/207?refresh=Paused&tempVars%5BDownsample%5D=Default&tempVars%5BFunction%5D=raw&lower=2023-06-23T04%3A27%3A41.074Z&upper=2023-06-23T04%3A27%3A47.074Z\" target=\"_blank\">link to dashboard</a>|\n",
      "| 109  | 2023-06-23 03:47:38.006  | 24.00  | -0.00 | <a href=\"https://summit-lsp.lsst.codes/chronograf/sources/1/dashboards/207?refresh=Paused&tempVars%5BDownsample%5D=Default&tempVars%5BFunction%5D=raw&lower=2023-06-23T03%3A47%3A33.006Z&upper=2023-06-23T03%3A47%3A39.006Z\" target=\"_blank\">link to dashboard</a>|\n",
      "| 108  | 2023-06-23 02:33:19.855  | 64.06  | 0.05 | <a href=\"https://summit-lsp.lsst.codes/chronograf/sources/1/dashboards/207?refresh=Paused&tempVars%5BDownsample%5D=Default&tempVars%5BFunction%5D=raw&lower=2023-06-23T02%3A33%3A14.855Z&upper=2023-06-23T02%3A33%3A20.855Z\" target=\"_blank\">link to dashboard</a>|\n",
      "| 107  | 2023-06-23 02:27:37.998  | 46.97  | 0.05 | <a href=\"https://summit-lsp.lsst.codes/chronograf/sources/1/dashboards/207?refresh=Paused&tempVars%5BDownsample%5D=Default&tempVars%5BFunction%5D=raw&lower=2023-06-23T02%3A27%3A32.998Z&upper=2023-06-23T02%3A27%3A38.998Z\" target=\"_blank\">link to dashboard</a>|\n",
      "| 106  | 2023-06-23 01:58:16.789  | 6.32  | -0.05 | <a href=\"https://summit-lsp.lsst.codes/chronograf/sources/1/dashboards/207?refresh=Paused&tempVars%5BDownsample%5D=Default&tempVars%5BFunction%5D=raw&lower=2023-06-23T01%3A58%3A11.789Z&upper=2023-06-23T01%3A58%3A17.789Z\" target=\"_blank\">link to dashboard</a>|\n",
      "| 105  | 2023-06-23 01:54:25.423  | 17.89  | -0.05 | <a href=\"https://summit-lsp.lsst.codes/chronograf/sources/1/dashboards/207?refresh=Paused&tempVars%5BDownsample%5D=Default&tempVars%5BFunction%5D=raw&lower=2023-06-23T01%3A54%3A20.423Z&upper=2023-06-23T01%3A54%3A26.423Z\" target=\"_blank\">link to dashboard</a>|\n",
      "| 104  | 2023-06-23 00:37:52.300  | 62.09  | 0.05 | <a href=\"https://summit-lsp.lsst.codes/chronograf/sources/1/dashboards/207?refresh=Paused&tempVars%5BDownsample%5D=Default&tempVars%5BFunction%5D=raw&lower=2023-06-23T00%3A37%3A47.300Z&upper=2023-06-23T00%3A37%3A53.300Z\" target=\"_blank\">link to dashboard</a>|\n",
      "| 103  | 2023-06-23 00:29:37.290  | 46.60  | 0.05 | <a href=\"https://summit-lsp.lsst.codes/chronograf/sources/1/dashboards/207?refresh=Paused&tempVars%5BDownsample%5D=Default&tempVars%5BFunction%5D=raw&lower=2023-06-23T00%3A29%3A32.290Z&upper=2023-06-23T00%3A29%3A38.290Z\" target=\"_blank\">link to dashboard</a>|\n",
      "| 102  | 2023-06-22 23:57:10.592  | 13.66  | -0.05 | <a href=\"https://summit-lsp.lsst.codes/chronograf/sources/1/dashboards/207?refresh=Paused&tempVars%5BDownsample%5D=Default&tempVars%5BFunction%5D=raw&lower=2023-06-22T23%3A57%3A05.592Z&upper=2023-06-22T23%3A57%3A11.592Z\" target=\"_blank\">link to dashboard</a>|\n",
      "| 101  | 2023-06-22 22:58:09.458  | 57.24  | 0.05 | <a href=\"https://summit-lsp.lsst.codes/chronograf/sources/1/dashboards/207?refresh=Paused&tempVars%5BDownsample%5D=Default&tempVars%5BFunction%5D=raw&lower=2023-06-22T22%3A58%3A04.458Z&upper=2023-06-22T22%3A58%3A10.458Z\" target=\"_blank\">link to dashboard</a>|\n",
      "| 100  | 2023-06-22 22:52:29.795  | 46.44  | 0.05 | <a href=\"https://summit-lsp.lsst.codes/chronograf/sources/1/dashboards/207?refresh=Paused&tempVars%5BDownsample%5D=Default&tempVars%5BFunction%5D=raw&lower=2023-06-22T22%3A52%3A24.795Z&upper=2023-06-22T22%3A52%3A30.795Z\" target=\"_blank\">link to dashboard</a>|\n",
      "| 99  | 2023-06-22 22:22:53.369  | 8.40  | -0.05 | <a href=\"https://summit-lsp.lsst.codes/chronograf/sources/1/dashboards/207?refresh=Paused&tempVars%5BDownsample%5D=Default&tempVars%5BFunction%5D=raw&lower=2023-06-22T22%3A22%3A48.369Z&upper=2023-06-22T22%3A22%3A54.369Z\" target=\"_blank\">link to dashboard</a>|\n",
      "| 98  | 2023-06-22 22:17:25.060  | 18.64  | -0.05 | <a href=\"https://summit-lsp.lsst.codes/chronograf/sources/1/dashboards/207?refresh=Paused&tempVars%5BDownsample%5D=Default&tempVars%5BFunction%5D=raw&lower=2023-06-22T22%3A17%3A20.060Z&upper=2023-06-22T22%3A17%3A26.060Z\" target=\"_blank\">link to dashboard</a>|\n",
      "| 97  | 2023-06-22 20:39:44.164  | 64.02  | 0.05 | <a href=\"https://summit-lsp.lsst.codes/chronograf/sources/1/dashboards/207?refresh=Paused&tempVars%5BDownsample%5D=Default&tempVars%5BFunction%5D=raw&lower=2023-06-22T20%3A39%3A39.164Z&upper=2023-06-22T20%3A39%3A45.164Z\" target=\"_blank\">link to dashboard</a>|\n",
      "| 96  | 2023-06-22 20:33:45.742  | 46.10  | 0.05 | <a href=\"https://summit-lsp.lsst.codes/chronograf/sources/1/dashboards/207?refresh=Paused&tempVars%5BDownsample%5D=Default&tempVars%5BFunction%5D=raw&lower=2023-06-22T20%3A33%3A40.742Z&upper=2023-06-22T20%3A33%3A46.742Z\" target=\"_blank\">link to dashboard</a>|\n",
      "| 95  | 2023-06-22 09:29:25.055  | 4.44  | -0.05 | <a href=\"https://summit-lsp.lsst.codes/chronograf/sources/1/dashboards/207?refresh=Paused&tempVars%5BDownsample%5D=Default&tempVars%5BFunction%5D=raw&lower=2023-06-22T09%3A29%3A20.055Z&upper=2023-06-22T09%3A29%3A26.055Z\" target=\"_blank\">link to dashboard</a>|\n",
      "| 94  | 2023-06-22 09:25:23.469  | 16.52  | -0.05 | <a href=\"https://summit-lsp.lsst.codes/chronograf/sources/1/dashboards/207?refresh=Paused&tempVars%5BDownsample%5D=Default&tempVars%5BFunction%5D=raw&lower=2023-06-22T09%3A25%3A18.469Z&upper=2023-06-22T09%3A25%3A24.469Z\" target=\"_blank\">link to dashboard</a>|\n",
      "| 93  | 2023-06-22 07:38:33.040  | 60.46  | 0.05 | <a href=\"https://summit-lsp.lsst.codes/chronograf/sources/1/dashboards/207?refresh=Paused&tempVars%5BDownsample%5D=Default&tempVars%5BFunction%5D=raw&lower=2023-06-22T07%3A38%3A28.040Z&upper=2023-06-22T07%3A38%3A34.040Z\" target=\"_blank\">link to dashboard</a>|\n",
      "| 92  | 2023-06-22 07:33:39.300  | 45.78  | 0.05 | <a href=\"https://summit-lsp.lsst.codes/chronograf/sources/1/dashboards/207?refresh=Paused&tempVars%5BDownsample%5D=Default&tempVars%5BFunction%5D=raw&lower=2023-06-22T07%3A33%3A34.300Z&upper=2023-06-22T07%3A33%3A40.300Z\" target=\"_blank\">link to dashboard</a>|\n",
      "| 91  | 2023-06-22 07:16:24.398  | 4.38  | -0.05 | <a href=\"https://summit-lsp.lsst.codes/chronograf/sources/1/dashboards/207?refresh=Paused&tempVars%5BDownsample%5D=Default&tempVars%5BFunction%5D=raw&lower=2023-06-22T07%3A16%3A19.398Z&upper=2023-06-22T07%3A16%3A25.398Z\" target=\"_blank\">link to dashboard</a>|\n",
      "| 90  | 2023-06-22 07:12:22.370  | 16.48  | -0.05 | <a href=\"https://summit-lsp.lsst.codes/chronograf/sources/1/dashboards/207?refresh=Paused&tempVars%5BDownsample%5D=Default&tempVars%5BFunction%5D=raw&lower=2023-06-22T07%3A12%3A17.370Z&upper=2023-06-22T07%3A12%3A23.370Z\" target=\"_blank\">link to dashboard</a>|\n",
      "| 89  | 2023-06-22 06:37:28.142  | 60.40  | 0.05 | <a href=\"https://summit-lsp.lsst.codes/chronograf/sources/1/dashboards/207?refresh=Paused&tempVars%5BDownsample%5D=Default&tempVars%5BFunction%5D=raw&lower=2023-06-22T06%3A37%3A23.142Z&upper=2023-06-22T06%3A37%3A29.142Z\" target=\"_blank\">link to dashboard</a>|\n",
      "| 88  | 2023-06-22 06:32:34.339  | 45.71  | 0.05 | <a href=\"https://summit-lsp.lsst.codes/chronograf/sources/1/dashboards/207?refresh=Paused&tempVars%5BDownsample%5D=Default&tempVars%5BFunction%5D=raw&lower=2023-06-22T06%3A32%3A29.339Z&upper=2023-06-22T06%3A32%3A35.339Z\" target=\"_blank\">link to dashboard</a>|\n",
      "| 87  | 2023-06-22 06:15:29.765  | 3.93  | -0.05 | <a href=\"https://summit-lsp.lsst.codes/chronograf/sources/1/dashboards/207?refresh=Paused&tempVars%5BDownsample%5D=Default&tempVars%5BFunction%5D=raw&lower=2023-06-22T06%3A15%3A24.765Z&upper=2023-06-22T06%3A15%3A30.765Z\" target=\"_blank\">link to dashboard</a>|\n",
      "| 86  | 2023-06-22 06:11:20.878  | 16.37  | -0.05 | <a href=\"https://summit-lsp.lsst.codes/chronograf/sources/1/dashboards/207?refresh=Paused&tempVars%5BDownsample%5D=Default&tempVars%5BFunction%5D=raw&lower=2023-06-22T06%3A11%3A15.878Z&upper=2023-06-22T06%3A11%3A21.878Z\" target=\"_blank\">link to dashboard</a>|\n",
      "| 85  | 2023-06-22 04:34:21.705  | 60.54  | 0.05 | <a href=\"https://summit-lsp.lsst.codes/chronograf/sources/1/dashboards/207?refresh=Paused&tempVars%5BDownsample%5D=Default&tempVars%5BFunction%5D=raw&lower=2023-06-22T04%3A34%3A16.705Z&upper=2023-06-22T04%3A34%3A22.705Z\" target=\"_blank\">link to dashboard</a>|\n",
      "| 84  | 2023-06-22 04:29:19.949  | 45.45  | 0.05 | <a href=\"https://summit-lsp.lsst.codes/chronograf/sources/1/dashboards/207?refresh=Paused&tempVars%5BDownsample%5D=Default&tempVars%5BFunction%5D=raw&lower=2023-06-22T04%3A29%3A14.949Z&upper=2023-06-22T04%3A29%3A20.949Z\" target=\"_blank\">link to dashboard</a>|\n",
      "| 83  | 2023-06-22 04:04:25.454  | 3.27  | -0.05 | <a href=\"https://summit-lsp.lsst.codes/chronograf/sources/1/dashboards/207?refresh=Paused&tempVars%5BDownsample%5D=Default&tempVars%5BFunction%5D=raw&lower=2023-06-22T04%3A04%3A20.454Z&upper=2023-06-22T04%3A04%3A26.454Z\" target=\"_blank\">link to dashboard</a>|\n",
      "| 82  | 2023-06-22 04:00:14.767  | 15.81  | -0.05 | <a href=\"https://summit-lsp.lsst.codes/chronograf/sources/1/dashboards/207?refresh=Paused&tempVars%5BDownsample%5D=Default&tempVars%5BFunction%5D=raw&lower=2023-06-22T04%3A00%3A09.767Z&upper=2023-06-22T04%3A00%3A15.767Z\" target=\"_blank\">link to dashboard</a>|\n",
      "| 81  | 2023-06-22 03:25:40.529  | 60.62  | 0.05 | <a href=\"https://summit-lsp.lsst.codes/chronograf/sources/1/dashboards/207?refresh=Paused&tempVars%5BDownsample%5D=Default&tempVars%5BFunction%5D=raw&lower=2023-06-22T03%3A25%3A35.529Z&upper=2023-06-22T03%3A25%3A41.529Z\" target=\"_blank\">link to dashboard</a>|\n",
      "| 80  | 2023-06-22 03:20:39.472  | 45.57  | 0.05 | <a href=\"https://summit-lsp.lsst.codes/chronograf/sources/1/dashboards/207?refresh=Paused&tempVars%5BDownsample%5D=Default&tempVars%5BFunction%5D=raw&lower=2023-06-22T03%3A20%3A34.472Z&upper=2023-06-22T03%3A20%3A40.472Z\" target=\"_blank\">link to dashboard</a>|\n",
      "| 79  | 2023-06-22 03:04:24.768  | 3.03  | -0.05 | <a href=\"https://summit-lsp.lsst.codes/chronograf/sources/1/dashboards/207?refresh=Paused&tempVars%5BDownsample%5D=Default&tempVars%5BFunction%5D=raw&lower=2023-06-22T03%3A04%3A19.768Z&upper=2023-06-22T03%3A04%3A25.768Z\" target=\"_blank\">link to dashboard</a>|\n",
      "| 78  | 2023-06-22 03:00:00.430  | 16.25  | -0.05 | <a href=\"https://summit-lsp.lsst.codes/chronograf/sources/1/dashboards/207?refresh=Paused&tempVars%5BDownsample%5D=Default&tempVars%5BFunction%5D=raw&lower=2023-06-22T02%3A59%3A55.430Z&upper=2023-06-22T03%3A00%3A01.430Z\" target=\"_blank\">link to dashboard</a>|\n",
      "| 77  | 2023-06-22 02:27:05.600  | 65.15  | 0.05 | <a href=\"https://summit-lsp.lsst.codes/chronograf/sources/1/dashboards/207?refresh=Paused&tempVars%5BDownsample%5D=Default&tempVars%5BFunction%5D=raw&lower=2023-06-22T02%3A27%3A00.600Z&upper=2023-06-22T02%3A27%3A06.600Z\" target=\"_blank\">link to dashboard</a>|\n",
      "| 76  | 2023-06-22 02:21:18.413  | 47.79  | 0.05 | <a href=\"https://summit-lsp.lsst.codes/chronograf/sources/1/dashboards/207?refresh=Paused&tempVars%5BDownsample%5D=Default&tempVars%5BFunction%5D=raw&lower=2023-06-22T02%3A21%3A13.413Z&upper=2023-06-22T02%3A21%3A19.413Z\" target=\"_blank\">link to dashboard</a>|\n",
      "| 75  | 2023-06-21 23:35:53.348  | 8.95  | -0.05 | <a href=\"https://summit-lsp.lsst.codes/chronograf/sources/1/dashboards/207?refresh=Paused&tempVars%5BDownsample%5D=Default&tempVars%5BFunction%5D=raw&lower=2023-06-21T23%3A35%3A48.348Z&upper=2023-06-21T23%3A35%3A54.348Z\" target=\"_blank\">link to dashboard</a>|\n",
      "| 74  | 2023-06-21 23:31:40.759  | 21.58  | -0.05 | <a href=\"https://summit-lsp.lsst.codes/chronograf/sources/1/dashboards/207?refresh=Paused&tempVars%5BDownsample%5D=Default&tempVars%5BFunction%5D=raw&lower=2023-06-21T23%3A31%3A35.759Z&upper=2023-06-21T23%3A31%3A41.759Z\" target=\"_blank\">link to dashboard</a>|\n",
      "| 73  | 2023-06-21 07:20:09.614  | 86.91  | -0.00 | <a href=\"https://summit-lsp.lsst.codes/chronograf/sources/1/dashboards/207?refresh=Paused&tempVars%5BDownsample%5D=Default&tempVars%5BFunction%5D=raw&lower=2023-06-21T07%3A20%3A04.614Z&upper=2023-06-21T07%3A20%3A10.614Z\" target=\"_blank\">link to dashboard</a>|\n",
      "| 72  | 2023-06-21 05:56:41.107  | 22.69  | -0.05 | <a href=\"https://summit-lsp.lsst.codes/chronograf/sources/1/dashboards/207?refresh=Paused&tempVars%5BDownsample%5D=Default&tempVars%5BFunction%5D=raw&lower=2023-06-21T05%3A56%3A36.107Z&upper=2023-06-21T05%3A56%3A42.107Z\" target=\"_blank\">link to dashboard</a>|\n",
      "| 71  | 2023-06-21 04:45:20.883  | 87.00  | 0.01 | <a href=\"https://summit-lsp.lsst.codes/chronograf/sources/1/dashboards/207?refresh=Paused&tempVars%5BDownsample%5D=Default&tempVars%5BFunction%5D=raw&lower=2023-06-21T04%3A45%3A15.883Z&upper=2023-06-21T04%3A45%3A21.883Z\" target=\"_blank\">link to dashboard</a>|\n",
      "| 70  | 2023-06-21 03:35:07.404  | 60.65  | 0.05 | <a href=\"https://summit-lsp.lsst.codes/chronograf/sources/1/dashboards/207?refresh=Paused&tempVars%5BDownsample%5D=Default&tempVars%5BFunction%5D=raw&lower=2023-06-21T03%3A35%3A02.404Z&upper=2023-06-21T03%3A35%3A08.404Z\" target=\"_blank\">link to dashboard</a>|\n",
      "| 69  | 2023-06-21 03:16:58.750  | 17.29  | -0.05 | <a href=\"https://summit-lsp.lsst.codes/chronograf/sources/1/dashboards/207?refresh=Paused&tempVars%5BDownsample%5D=Default&tempVars%5BFunction%5D=raw&lower=2023-06-21T03%3A16%3A53.750Z&upper=2023-06-21T03%3A16%3A59.750Z\" target=\"_blank\">link to dashboard</a>|\n",
      "| 68  | 2023-06-21 02:44:58.149  | 63.77  | 0.05 | <a href=\"https://summit-lsp.lsst.codes/chronograf/sources/1/dashboards/207?refresh=Paused&tempVars%5BDownsample%5D=Default&tempVars%5BFunction%5D=raw&lower=2023-06-21T02%3A44%3A53.149Z&upper=2023-06-21T02%3A44%3A59.149Z\" target=\"_blank\">link to dashboard</a>|\n",
      "| 67  | 2023-06-21 02:39:01.188  | 45.92  | 0.05 | <a href=\"https://summit-lsp.lsst.codes/chronograf/sources/1/dashboards/207?refresh=Paused&tempVars%5BDownsample%5D=Default&tempVars%5BFunction%5D=raw&lower=2023-06-21T02%3A38%3A56.188Z&upper=2023-06-21T02%3A39%3A02.188Z\" target=\"_blank\">link to dashboard</a>|\n",
      "| 66  | 2023-06-21 02:00:21.834  | 4.42  | -0.05 | <a href=\"https://summit-lsp.lsst.codes/chronograf/sources/1/dashboards/207?refresh=Paused&tempVars%5BDownsample%5D=Default&tempVars%5BFunction%5D=raw&lower=2023-06-21T02%3A00%3A16.834Z&upper=2023-06-21T02%3A00%3A22.834Z\" target=\"_blank\">link to dashboard</a>|\n",
      "| 65  | 2023-06-21 01:55:15.999  | 19.72  | -0.05 | <a href=\"https://summit-lsp.lsst.codes/chronograf/sources/1/dashboards/207?refresh=Paused&tempVars%5BDownsample%5D=Default&tempVars%5BFunction%5D=raw&lower=2023-06-21T01%3A55%3A10.999Z&upper=2023-06-21T01%3A55%3A16.999Z\" target=\"_blank\">link to dashboard</a>|\n",
      "| 64  | 2023-06-20 05:19:03.505  | 89.86  | -0.00 | <a href=\"https://summit-lsp.lsst.codes/chronograf/sources/1/dashboards/207?refresh=Paused&tempVars%5BDownsample%5D=Default&tempVars%5BFunction%5D=raw&lower=2023-06-20T05%3A18%3A58.505Z&upper=2023-06-20T05%3A19%3A04.505Z\" target=\"_blank\">link to dashboard</a>|\n",
      "| 63  | 2023-06-16 11:13:35.711  | 3.31  | -0.05 | <a href=\"https://summit-lsp.lsst.codes/chronograf/sources/1/dashboards/207?refresh=Paused&tempVars%5BDownsample%5D=Default&tempVars%5BFunction%5D=raw&lower=2023-06-16T11%3A13%3A30.711Z&upper=2023-06-16T11%3A13%3A36.711Z\" target=\"_blank\">link to dashboard</a>|\n",
      "| 62  | 2023-06-16 11:08:34.364  | 16.78  | -0.05 | <a href=\"https://summit-lsp.lsst.codes/chronograf/sources/1/dashboards/207?refresh=Paused&tempVars%5BDownsample%5D=Default&tempVars%5BFunction%5D=raw&lower=2023-06-16T11%3A08%3A29.364Z&upper=2023-06-16T11%3A08%3A35.364Z\" target=\"_blank\">link to dashboard</a>|\n",
      "| 61  | 2023-06-16 08:52:53.620  | 59.46  | 0.05 | <a href=\"https://summit-lsp.lsst.codes/chronograf/sources/1/dashboards/207?refresh=Paused&tempVars%5BDownsample%5D=Default&tempVars%5BFunction%5D=raw&lower=2023-06-16T08%3A52%3A48.620Z&upper=2023-06-16T08%3A52%3A54.620Z\" target=\"_blank\">link to dashboard</a>|\n",
      "| 60  | 2023-06-16 08:15:26.902  | 18.11  | -0.05 | <a href=\"https://summit-lsp.lsst.codes/chronograf/sources/1/dashboards/207?refresh=Paused&tempVars%5BDownsample%5D=Default&tempVars%5BFunction%5D=raw&lower=2023-06-16T08%3A15%3A21.902Z&upper=2023-06-16T08%3A15%3A27.902Z\" target=\"_blank\">link to dashboard</a>|\n",
      "| 59  | 2023-06-16 06:21:20.449  | 59.88  | 0.05 | <a href=\"https://summit-lsp.lsst.codes/chronograf/sources/1/dashboards/207?refresh=Paused&tempVars%5BDownsample%5D=Default&tempVars%5BFunction%5D=raw&lower=2023-06-16T06%3A21%3A15.449Z&upper=2023-06-16T06%3A21%3A21.449Z\" target=\"_blank\">link to dashboard</a>|\n",
      "| 58  | 2023-06-16 05:44:05.961  | 17.08  | -0.05 | <a href=\"https://summit-lsp.lsst.codes/chronograf/sources/1/dashboards/207?refresh=Paused&tempVars%5BDownsample%5D=Default&tempVars%5BFunction%5D=raw&lower=2023-06-16T05%3A44%3A00.961Z&upper=2023-06-16T05%3A44%3A06.961Z\" target=\"_blank\">link to dashboard</a>|\n",
      "| 57  | 2023-06-16 04:36:40.869  | 60.29  | 0.05 | <a href=\"https://summit-lsp.lsst.codes/chronograf/sources/1/dashboards/207?refresh=Paused&tempVars%5BDownsample%5D=Default&tempVars%5BFunction%5D=raw&lower=2023-06-16T04%3A36%3A35.869Z&upper=2023-06-16T04%3A36%3A41.869Z\" target=\"_blank\">link to dashboard</a>|\n",
      "| 56  | 2023-06-16 04:20:26.912  | 17.31  | -0.05 | <a href=\"https://summit-lsp.lsst.codes/chronograf/sources/1/dashboards/207?refresh=Paused&tempVars%5BDownsample%5D=Default&tempVars%5BFunction%5D=raw&lower=2023-06-16T04%3A20%3A21.912Z&upper=2023-06-16T04%3A20%3A27.912Z\" target=\"_blank\">link to dashboard</a>|\n",
      "| 55  | 2023-06-16 03:44:52.872  | 60.64  | 0.05 | <a href=\"https://summit-lsp.lsst.codes/chronograf/sources/1/dashboards/207?refresh=Paused&tempVars%5BDownsample%5D=Default&tempVars%5BFunction%5D=raw&lower=2023-06-16T03%3A44%3A47.872Z&upper=2023-06-16T03%3A44%3A53.872Z\" target=\"_blank\">link to dashboard</a>|\n",
      "| 54  | 2023-06-16 03:28:23.520  | 17.73  | -0.05 | <a href=\"https://summit-lsp.lsst.codes/chronograf/sources/1/dashboards/207?refresh=Paused&tempVars%5BDownsample%5D=Default&tempVars%5BFunction%5D=raw&lower=2023-06-16T03%3A28%3A18.520Z&upper=2023-06-16T03%3A28%3A24.520Z\" target=\"_blank\">link to dashboard</a>|\n",
      "| 53  | 2023-06-16 02:52:20.027  | 64.73  | 0.05 | <a href=\"https://summit-lsp.lsst.codes/chronograf/sources/1/dashboards/207?refresh=Paused&tempVars%5BDownsample%5D=Default&tempVars%5BFunction%5D=raw&lower=2023-06-16T02%3A52%3A15.027Z&upper=2023-06-16T02%3A52%3A21.027Z\" target=\"_blank\">link to dashboard</a>|\n",
      "| 52  | 2023-06-16 02:46:04.466  | 45.95  | 0.05 | <a href=\"https://summit-lsp.lsst.codes/chronograf/sources/1/dashboards/207?refresh=Paused&tempVars%5BDownsample%5D=Default&tempVars%5BFunction%5D=raw&lower=2023-06-16T02%3A45%3A59.466Z&upper=2023-06-16T02%3A46%3A05.466Z\" target=\"_blank\">link to dashboard</a>|\n",
      "| 51  | 2023-06-16 02:28:15.650  | 4.40  | -0.05 | <a href=\"https://summit-lsp.lsst.codes/chronograf/sources/1/dashboards/207?refresh=Paused&tempVars%5BDownsample%5D=Default&tempVars%5BFunction%5D=raw&lower=2023-06-16T02%3A28%3A10.650Z&upper=2023-06-16T02%3A28%3A16.650Z\" target=\"_blank\">link to dashboard</a>|\n",
      "| 50  | 2023-06-16 02:22:55.389  | 20.41  | -0.05 | <a href=\"https://summit-lsp.lsst.codes/chronograf/sources/1/dashboards/207?refresh=Paused&tempVars%5BDownsample%5D=Default&tempVars%5BFunction%5D=raw&lower=2023-06-16T02%3A22%3A50.389Z&upper=2023-06-16T02%3A22%3A56.389Z\" target=\"_blank\">link to dashboard</a>|\n",
      "| 49  | 2023-06-16 01:38:08.299  | 68.96  | 0.05 | <a href=\"https://summit-lsp.lsst.codes/chronograf/sources/1/dashboards/207?refresh=Paused&tempVars%5BDownsample%5D=Default&tempVars%5BFunction%5D=raw&lower=2023-06-16T01%3A38%3A03.299Z&upper=2023-06-16T01%3A38%3A09.299Z\" target=\"_blank\">link to dashboard</a>|\n",
      "| 48  | 2023-06-16 01:30:48.219  | 46.95  | 0.05 | <a href=\"https://summit-lsp.lsst.codes/chronograf/sources/1/dashboards/207?refresh=Paused&tempVars%5BDownsample%5D=Default&tempVars%5BFunction%5D=raw&lower=2023-06-16T01%3A30%3A43.219Z&upper=2023-06-16T01%3A30%3A49.219Z\" target=\"_blank\">link to dashboard</a>|\n",
      "| 47  | 2023-06-16 00:47:15.204  | 3.58  | -0.05 | <a href=\"https://summit-lsp.lsst.codes/chronograf/sources/1/dashboards/207?refresh=Paused&tempVars%5BDownsample%5D=Default&tempVars%5BFunction%5D=raw&lower=2023-06-16T00%3A47%3A10.204Z&upper=2023-06-16T00%3A47%3A16.204Z\" target=\"_blank\">link to dashboard</a>|\n",
      "| 46  | 2023-06-16 00:41:47.821  | 19.94  | -0.05 | <a href=\"https://summit-lsp.lsst.codes/chronograf/sources/1/dashboards/207?refresh=Paused&tempVars%5BDownsample%5D=Default&tempVars%5BFunction%5D=raw&lower=2023-06-16T00%3A41%3A42.821Z&upper=2023-06-16T00%3A41%3A48.821Z\" target=\"_blank\">link to dashboard</a>|\n",
      "| 45  | 2023-06-02 09:26:01.161  | 59.64  | 0.05 | <a href=\"https://summit-lsp.lsst.codes/chronograf/sources/1/dashboards/207?refresh=Paused&tempVars%5BDownsample%5D=Default&tempVars%5BFunction%5D=raw&lower=2023-06-02T09%3A25%3A56.161Z&upper=2023-06-02T09%3A26%3A02.161Z\" target=\"_blank\">link to dashboard</a>|\n",
      "| 44  | 2023-06-02 08:42:42.398  | 17.09  | -0.05 | <a href=\"https://summit-lsp.lsst.codes/chronograf/sources/1/dashboards/207?refresh=Paused&tempVars%5BDownsample%5D=Default&tempVars%5BFunction%5D=raw&lower=2023-06-02T08%3A42%3A37.398Z&upper=2023-06-02T08%3A42%3A43.398Z\" target=\"_blank\">link to dashboard</a>|\n",
      "| 43  | 2023-06-02 07:23:56.242  | 59.68  | 0.05 | <a href=\"https://summit-lsp.lsst.codes/chronograf/sources/1/dashboards/207?refresh=Paused&tempVars%5BDownsample%5D=Default&tempVars%5BFunction%5D=raw&lower=2023-06-02T07%3A23%3A51.242Z&upper=2023-06-02T07%3A23%3A57.242Z\" target=\"_blank\">link to dashboard</a>|\n",
      "| 42  | 2023-06-02 06:35:51.940  | 16.63  | -0.05 | <a href=\"https://summit-lsp.lsst.codes/chronograf/sources/1/dashboards/207?refresh=Paused&tempVars%5BDownsample%5D=Default&tempVars%5BFunction%5D=raw&lower=2023-06-02T06%3A35%3A46.940Z&upper=2023-06-02T06%3A35%3A52.940Z\" target=\"_blank\">link to dashboard</a>|\n",
      "| 41  | 2023-06-02 05:14:59.695  | 59.85  | 0.05 | <a href=\"https://summit-lsp.lsst.codes/chronograf/sources/1/dashboards/207?refresh=Paused&tempVars%5BDownsample%5D=Default&tempVars%5BFunction%5D=raw&lower=2023-06-02T05%3A14%3A54.695Z&upper=2023-06-02T05%3A15%3A00.695Z\" target=\"_blank\">link to dashboard</a>|\n",
      "| 40  | 2023-06-02 04:37:19.223  | 16.60  | -0.05 | <a href=\"https://summit-lsp.lsst.codes/chronograf/sources/1/dashboards/207?refresh=Paused&tempVars%5BDownsample%5D=Default&tempVars%5BFunction%5D=raw&lower=2023-06-02T04%3A37%3A14.223Z&upper=2023-06-02T04%3A37%3A20.223Z\" target=\"_blank\">link to dashboard</a>|\n",
      "| 39  | 2023-06-02 03:16:22.224  | 60.40  | 0.10 | <a href=\"https://summit-lsp.lsst.codes/chronograf/sources/1/dashboards/207?refresh=Paused&tempVars%5BDownsample%5D=Default&tempVars%5BFunction%5D=raw&lower=2023-06-02T03%3A16%3A17.224Z&upper=2023-06-02T03%3A16%3A23.224Z\" target=\"_blank\">link to dashboard</a>|\n",
      "| 38  | 2023-06-02 01:56:47.093  | 16.31  | -0.05 | <a href=\"https://summit-lsp.lsst.codes/chronograf/sources/1/dashboards/207?refresh=Paused&tempVars%5BDownsample%5D=Default&tempVars%5BFunction%5D=raw&lower=2023-06-02T01%3A56%3A42.093Z&upper=2023-06-02T01%3A56%3A48.093Z\" target=\"_blank\">link to dashboard</a>|\n",
      "| 37  | 2023-06-01 11:18:21.959  | 57.46  | 0.05 | <a href=\"https://summit-lsp.lsst.codes/chronograf/sources/1/dashboards/207?refresh=Paused&tempVars%5BDownsample%5D=Default&tempVars%5BFunction%5D=raw&lower=2023-06-01T11%3A18%3A16.959Z&upper=2023-06-01T11%3A18%3A22.959Z\" target=\"_blank\">link to dashboard</a>|\n",
      "| 36  | 2023-06-01 09:35:28.874  | 10.07  | -0.05 | <a href=\"https://summit-lsp.lsst.codes/chronograf/sources/1/dashboards/207?refresh=Paused&tempVars%5BDownsample%5D=Default&tempVars%5BFunction%5D=raw&lower=2023-06-01T09%3A35%3A23.874Z&upper=2023-06-01T09%3A35%3A29.874Z\" target=\"_blank\">link to dashboard</a>|\n",
      "| 35  | 2023-06-01 07:51:05.484  | 30.05  | 0.03 | <a href=\"https://summit-lsp.lsst.codes/chronograf/sources/1/dashboards/207?refresh=Paused&tempVars%5BDownsample%5D=Default&tempVars%5BFunction%5D=raw&lower=2023-06-01T07%3A51%3A00.484Z&upper=2023-06-01T07%3A51%3A06.484Z\" target=\"_blank\">link to dashboard</a>|\n",
      "| 34  | 2023-06-01 07:36:47.411  | 40.05  | 0.01 | <a href=\"https://summit-lsp.lsst.codes/chronograf/sources/1/dashboards/207?refresh=Paused&tempVars%5BDownsample%5D=Default&tempVars%5BFunction%5D=raw&lower=2023-06-01T07%3A36%3A42.411Z&upper=2023-06-01T07%3A36%3A48.411Z\" target=\"_blank\">link to dashboard</a>|\n",
      "| 33  | 2023-06-01 07:08:10.516  | 60.09  | 0.02 | <a href=\"https://summit-lsp.lsst.codes/chronograf/sources/1/dashboards/207?refresh=Paused&tempVars%5BDownsample%5D=Default&tempVars%5BFunction%5D=raw&lower=2023-06-01T07%3A08%3A05.516Z&upper=2023-06-01T07%3A08%3A11.516Z\" target=\"_blank\">link to dashboard</a>|\n",
      "| 32  | 2023-06-01 05:09:55.457  | 80.00  | 0.00 | <a href=\"https://summit-lsp.lsst.codes/chronograf/sources/1/dashboards/207?refresh=Paused&tempVars%5BDownsample%5D=Default&tempVars%5BFunction%5D=raw&lower=2023-06-01T05%3A09%3A50.457Z&upper=2023-06-01T05%3A09%3A56.457Z\" target=\"_blank\">link to dashboard</a>|\n",
      "| 31  | 2023-06-01 05:09:51.277  | 80.00  | 0.00 | <a href=\"https://summit-lsp.lsst.codes/chronograf/sources/1/dashboards/207?refresh=Paused&tempVars%5BDownsample%5D=Default&tempVars%5BFunction%5D=raw&lower=2023-06-01T05%3A09%3A46.277Z&upper=2023-06-01T05%3A09%3A52.277Z\" target=\"_blank\">link to dashboard</a>|\n",
      "| 30  | 2023-06-01 04:33:14.124  | 28.42  | -0.05 | <a href=\"https://summit-lsp.lsst.codes/chronograf/sources/1/dashboards/207?refresh=Paused&tempVars%5BDownsample%5D=Default&tempVars%5BFunction%5D=raw&lower=2023-06-01T04%3A33%3A09.124Z&upper=2023-06-01T04%3A33%3A15.124Z\" target=\"_blank\">link to dashboard</a>|\n",
      "| 29  | 2023-06-01 02:24:19.215  | 70.11  | 0.01 | <a href=\"https://summit-lsp.lsst.codes/chronograf/sources/1/dashboards/207?refresh=Paused&tempVars%5BDownsample%5D=Default&tempVars%5BFunction%5D=raw&lower=2023-06-01T02%3A24%3A14.215Z&upper=2023-06-01T02%3A24%3A20.215Z\" target=\"_blank\">link to dashboard</a>|\n",
      "| 28  | 2023-06-01 01:18:06.501  | 77.65  | 0.00 | <a href=\"https://summit-lsp.lsst.codes/chronograf/sources/1/dashboards/207?refresh=Paused&tempVars%5BDownsample%5D=Default&tempVars%5BFunction%5D=raw&lower=2023-06-01T01%3A18%3A01.501Z&upper=2023-06-01T01%3A18%3A07.501Z\" target=\"_blank\">link to dashboard</a>|\n",
      "| 27  | 2023-05-31 22:12:13.050  | 82.03  | -0.15 | <a href=\"https://summit-lsp.lsst.codes/chronograf/sources/1/dashboards/207?refresh=Paused&tempVars%5BDownsample%5D=Default&tempVars%5BFunction%5D=raw&lower=2023-05-31T22%3A12%3A08.050Z&upper=2023-05-31T22%3A12%3A14.050Z\" target=\"_blank\">link to dashboard</a>|\n",
      "| 26  | 2023-05-31 22:12:08.990  | 83.89  | -0.31 | <a href=\"https://summit-lsp.lsst.codes/chronograf/sources/1/dashboards/207?refresh=Paused&tempVars%5BDownsample%5D=Default&tempVars%5BFunction%5D=raw&lower=2023-05-31T22%3A12%3A03.990Z&upper=2023-05-31T22%3A12%3A09.990Z\" target=\"_blank\">link to dashboard</a>|\n",
      "| 25  | 2023-05-31 22:11:23.965  | 84.05  | -0.20 | <a href=\"https://summit-lsp.lsst.codes/chronograf/sources/1/dashboards/207?refresh=Paused&tempVars%5BDownsample%5D=Default&tempVars%5BFunction%5D=raw&lower=2023-05-31T22%3A11%3A18.965Z&upper=2023-05-31T22%3A11%3A24.965Z\" target=\"_blank\">link to dashboard</a>|\n",
      "| 24  | 2023-05-31 22:11:18.125  | 86.83  | -0.30 | <a href=\"https://summit-lsp.lsst.codes/chronograf/sources/1/dashboards/207?refresh=Paused&tempVars%5BDownsample%5D=Default&tempVars%5BFunction%5D=raw&lower=2023-05-31T22%3A11%3A13.125Z&upper=2023-05-31T22%3A11%3A19.125Z\" target=\"_blank\">link to dashboard</a>|\n",
      "| 23  | 2023-05-31 11:41:25.048  | 76.19  | 0.05 | <a href=\"https://summit-lsp.lsst.codes/chronograf/sources/1/dashboards/207?refresh=Paused&tempVars%5BDownsample%5D=Default&tempVars%5BFunction%5D=raw&lower=2023-05-31T11%3A41%3A20.048Z&upper=2023-05-31T11%3A41%3A26.048Z\" target=\"_blank\">link to dashboard</a>|\n",
      "| 22  | 2023-05-31 11:32:15.754  | 48.73  | 0.05 | <a href=\"https://summit-lsp.lsst.codes/chronograf/sources/1/dashboards/207?refresh=Paused&tempVars%5BDownsample%5D=Default&tempVars%5BFunction%5D=raw&lower=2023-05-31T11%3A32%3A10.754Z&upper=2023-05-31T11%3A32%3A16.754Z\" target=\"_blank\">link to dashboard</a>|\n",
      "| 21  | 2023-05-31 11:11:48.365  | 8.32  | -0.05 | <a href=\"https://summit-lsp.lsst.codes/chronograf/sources/1/dashboards/207?refresh=Paused&tempVars%5BDownsample%5D=Default&tempVars%5BFunction%5D=raw&lower=2023-05-31T11%3A11%3A43.365Z&upper=2023-05-31T11%3A11%3A49.365Z\" target=\"_blank\">link to dashboard</a>|\n",
      "| 20  | 2023-05-31 10:30:22.072  | 50.39  | 0.05 | <a href=\"https://summit-lsp.lsst.codes/chronograf/sources/1/dashboards/207?refresh=Paused&tempVars%5BDownsample%5D=Default&tempVars%5BFunction%5D=raw&lower=2023-05-31T10%3A30%3A17.072Z&upper=2023-05-31T10%3A30%3A23.072Z\" target=\"_blank\">link to dashboard</a>|\n",
      "| 19  | 2023-05-31 10:08:11.670  | 9.44  | -0.05 | <a href=\"https://summit-lsp.lsst.codes/chronograf/sources/1/dashboards/207?refresh=Paused&tempVars%5BDownsample%5D=Default&tempVars%5BFunction%5D=raw&lower=2023-05-31T10%3A08%3A06.670Z&upper=2023-05-31T10%3A08%3A12.670Z\" target=\"_blank\">link to dashboard</a>|\n",
      "| 18  | 2023-05-31 09:25:06.054  | 50.76  | 0.05 | <a href=\"https://summit-lsp.lsst.codes/chronograf/sources/1/dashboards/207?refresh=Paused&tempVars%5BDownsample%5D=Default&tempVars%5BFunction%5D=raw&lower=2023-05-31T09%3A25%3A01.054Z&upper=2023-05-31T09%3A25%3A07.054Z\" target=\"_blank\">link to dashboard</a>|\n",
      "| 17  | 2023-05-31 09:03:03.945  | 7.02  | -0.05 | <a href=\"https://summit-lsp.lsst.codes/chronograf/sources/1/dashboards/207?refresh=Paused&tempVars%5BDownsample%5D=Default&tempVars%5BFunction%5D=raw&lower=2023-05-31T09%3A02%3A58.945Z&upper=2023-05-31T09%3A03%3A04.945Z\" target=\"_blank\">link to dashboard</a>|\n",
      "| 16  | 2023-05-31 08:57:53.512  | 22.54  | -0.05 | <a href=\"https://summit-lsp.lsst.codes/chronograf/sources/1/dashboards/207?refresh=Paused&tempVars%5BDownsample%5D=Default&tempVars%5BFunction%5D=raw&lower=2023-05-31T08%3A57%3A48.512Z&upper=2023-05-31T08%3A57%3A54.512Z\" target=\"_blank\">link to dashboard</a>|\n",
      "| 15  | 2023-05-31 08:21:52.226  | 73.27  | 0.05 | <a href=\"https://summit-lsp.lsst.codes/chronograf/sources/1/dashboards/207?refresh=Paused&tempVars%5BDownsample%5D=Default&tempVars%5BFunction%5D=raw&lower=2023-05-31T08%3A21%3A47.226Z&upper=2023-05-31T08%3A21%3A53.226Z\" target=\"_blank\">link to dashboard</a>|\n",
      "| 14  | 2023-05-31 08:12:06.225  | 51.98  | 0.05 | <a href=\"https://summit-lsp.lsst.codes/chronograf/sources/1/dashboards/207?refresh=Paused&tempVars%5BDownsample%5D=Default&tempVars%5BFunction%5D=raw&lower=2023-05-31T08%3A12%3A01.225Z&upper=2023-05-31T08%3A12%3A07.225Z\" target=\"_blank\">link to dashboard</a>|\n",
      "| 13  | 2023-05-31 08:07:30.681  | 41.56  | 0.05 | <a href=\"https://summit-lsp.lsst.codes/chronograf/sources/1/dashboards/207?refresh=Paused&tempVars%5BDownsample%5D=Default&tempVars%5BFunction%5D=raw&lower=2023-05-31T08%3A07%3A25.681Z&upper=2023-05-31T08%3A07%3A31.681Z\" target=\"_blank\">link to dashboard</a>|\n",
      "| 12  | 2023-05-31 07:40:44.056  | 0.31  | -0.05 | <a href=\"https://summit-lsp.lsst.codes/chronograf/sources/1/dashboards/207?refresh=Paused&tempVars%5BDownsample%5D=Default&tempVars%5BFunction%5D=raw&lower=2023-05-31T07%3A40%3A39.056Z&upper=2023-05-31T07%3A40%3A45.056Z\" target=\"_blank\">link to dashboard</a>|\n",
      "| 11  | 2023-05-31 07:33:20.770  | 18.44  | -0.05 | <a href=\"https://summit-lsp.lsst.codes/chronograf/sources/1/dashboards/207?refresh=Paused&tempVars%5BDownsample%5D=Default&tempVars%5BFunction%5D=raw&lower=2023-05-31T07%3A33%3A15.770Z&upper=2023-05-31T07%3A33%3A21.770Z\" target=\"_blank\">link to dashboard</a>|\n",
      "| 10  | 2023-05-31 05:38:17.970  | 82.52  | 0.05 | <a href=\"https://summit-lsp.lsst.codes/chronograf/sources/1/dashboards/207?refresh=Paused&tempVars%5BDownsample%5D=Default&tempVars%5BFunction%5D=raw&lower=2023-05-31T05%3A38%3A12.970Z&upper=2023-05-31T05%3A38%3A18.970Z\" target=\"_blank\">link to dashboard</a>|\n",
      "| 9  | 2023-05-31 05:31:48.209  | 63.04  | 0.05 | <a href=\"https://summit-lsp.lsst.codes/chronograf/sources/1/dashboards/207?refresh=Paused&tempVars%5BDownsample%5D=Default&tempVars%5BFunction%5D=raw&lower=2023-05-31T05%3A31%3A43.209Z&upper=2023-05-31T05%3A31%3A49.209Z\" target=\"_blank\">link to dashboard</a>|\n",
      "| 8  | 2023-05-30 21:14:55.170  | 14.64  | -0.05 | <a href=\"https://summit-lsp.lsst.codes/chronograf/sources/1/dashboards/207?refresh=Paused&tempVars%5BDownsample%5D=Default&tempVars%5BFunction%5D=raw&lower=2023-05-30T21%3A14%3A50.170Z&upper=2023-05-30T21%3A14%3A56.170Z\" target=\"_blank\">link to dashboard</a>|\n",
      "| 7  | 2023-05-30 21:00:29.531  | 57.92  | -0.05 | <a href=\"https://summit-lsp.lsst.codes/chronograf/sources/1/dashboards/207?refresh=Paused&tempVars%5BDownsample%5D=Default&tempVars%5BFunction%5D=raw&lower=2023-05-30T21%3A00%3A24.531Z&upper=2023-05-30T21%3A00%3A30.531Z\" target=\"_blank\">link to dashboard</a>|\n",
      "| 6  | 2023-05-30 11:17:43.353  | 75.37  | 0.05 | <a href=\"https://summit-lsp.lsst.codes/chronograf/sources/1/dashboards/207?refresh=Paused&tempVars%5BDownsample%5D=Default&tempVars%5BFunction%5D=raw&lower=2023-05-30T11%3A17%3A38.353Z&upper=2023-05-30T11%3A17%3A44.353Z\" target=\"_blank\">link to dashboard</a>|\n",
      "| 5  | 2023-05-30 11:08:27.615  | 47.58  | 0.05 | <a href=\"https://summit-lsp.lsst.codes/chronograf/sources/1/dashboards/207?refresh=Paused&tempVars%5BDownsample%5D=Default&tempVars%5BFunction%5D=raw&lower=2023-05-30T11%3A08%3A22.615Z&upper=2023-05-30T11%3A08%3A28.615Z\" target=\"_blank\">link to dashboard</a>|\n",
      "| 4  | 2023-05-30 10:46:12.110  | 3.13  | -0.05 | <a href=\"https://summit-lsp.lsst.codes/chronograf/sources/1/dashboards/207?refresh=Paused&tempVars%5BDownsample%5D=Default&tempVars%5BFunction%5D=raw&lower=2023-05-30T10%3A46%3A07.110Z&upper=2023-05-30T10%3A46%3A13.110Z\" target=\"_blank\">link to dashboard</a>|\n",
      "| 3  | 2023-05-30 10:40:49.341  | 19.27  | -0.05 | <a href=\"https://summit-lsp.lsst.codes/chronograf/sources/1/dashboards/207?refresh=Paused&tempVars%5BDownsample%5D=Default&tempVars%5BFunction%5D=raw&lower=2023-05-30T10%3A40%3A44.341Z&upper=2023-05-30T10%3A40%3A50.341Z\" target=\"_blank\">link to dashboard</a>|\n",
      "| 2  | 2023-05-30 10:08:01.938  | 69.38  | 0.05 | <a href=\"https://summit-lsp.lsst.codes/chronograf/sources/1/dashboards/207?refresh=Paused&tempVars%5BDownsample%5D=Default&tempVars%5BFunction%5D=raw&lower=2023-05-30T10%3A07%3A56.938Z&upper=2023-05-30T10%3A08%3A02.938Z\" target=\"_blank\">link to dashboard</a>|\n",
      "| 1  | 2023-05-30 10:00:29.127  | 46.74  | 0.05 | <a href=\"https://summit-lsp.lsst.codes/chronograf/sources/1/dashboards/207?refresh=Paused&tempVars%5BDownsample%5D=Default&tempVars%5BFunction%5D=raw&lower=2023-05-30T10%3A00%3A24.127Z&upper=2023-05-30T10%3A00%3A30.127Z\" target=\"_blank\">link to dashboard</a>|\n",
      "\n"
     ]
    }
   ],
   "source": [
    "print(title_str+row_str)"
   ]
  },
  {
   "cell_type": "code",
   "execution_count": null,
   "id": "30b1bc29-bad5-44eb-ae9b-d017439ade77",
   "metadata": {},
   "outputs": [],
   "source": []
  }
 ],
 "metadata": {
  "kernelspec": {
   "display_name": "LSST",
   "language": "python",
   "name": "lsst"
  },
  "language_info": {
   "codemirror_mode": {
    "name": "ipython",
    "version": 3
   },
   "file_extension": ".py",
   "mimetype": "text/x-python",
   "name": "python",
   "nbconvert_exporter": "python",
   "pygments_lexer": "ipython3",
   "version": "3.10.10"
  }
 },
 "nbformat": 4,
 "nbformat_minor": 5
}
